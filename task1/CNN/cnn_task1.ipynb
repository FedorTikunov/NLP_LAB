{
 "cells": [
  {
   "cell_type": "code",
   "execution_count": 10,
   "id": "761c5e91",
   "metadata": {},
   "outputs": [],
   "source": [
    "import spacy\n",
    "import pandas as pd\n",
    "import numpy as np\n",
    "from keras.models import Sequential\n",
    "from keras.layers import Embedding, Conv1D, GlobalMaxPooling1D, Dense\n",
    "from keras.preprocessing.text import Tokenizer\n",
    "from keras.preprocessing.sequence import pad_sequences\n",
    "from sklearn.model_selection import train_test_split\n",
    "import chardet"
   ]
  },
  {
   "cell_type": "code",
   "execution_count": 33,
   "id": "cffe2ee8",
   "metadata": {
    "scrolled": true
   },
   "outputs": [],
   "source": [
    "\n",
    "# Load Spacy model\n",
    "nlp = spacy.load(\"en_core_web_sm\")\n",
    "\n",
    "# Load and preprocess data\n",
    "with open(\"C:/Users/fedor/Documents/NLP/task1/tripadvisor_hotel_reviews.csv\", 'rb') as f:\n",
    "    result = chardet.detect(f.read())\n",
    "df = pd.read_csv(\"C:/Users/fedor/Documents/NLP/task1/tripadvisor_hotel_reviews.csv\", encoding=result['encoding'], sep=',')\n",
    "df = df[['Review', 'Rating']]\n",
    "df = df[df[\"Rating\"] != 3]\n",
    "df[\"Rating\"] = df[\"Rating\"].apply(lambda x: 0 if x in [1, 2] else 1)\n",
    "df = df.sample(frac=1)\n",
    "# Prepare text and label data\n",
    "texts = df['Review'].values\n",
    "labels = df['Rating'].values"
   ]
  },
  {
   "cell_type": "code",
   "execution_count": 34,
   "id": "6983cb9d",
   "metadata": {},
   "outputs": [
    {
     "name": "stdout",
     "output_type": "stream",
     "text": [
      "bravo overrated stayed bravo 3 nights martineau bay 3 nights glad did n't stay bravo stay, ok parts hotel bravo quite pretty rooms totally overrated, beds uncomfortable hard frette linen world n't help bed cheap foam matress hard board, no proper drapes blinds seaview room 5 6 strips white cloth not pull right outside window terrace guests restaurant eat, n't count privacy room people stare straight, used room sleeping 6 7 sun blaring room, assume minimalist just low standard.also not use beach rocky swimming conditions bad, nobody used 3 days, staff friendly, restaurant good food, packed lunches pretty good half listed menu n't picked, martineau bay heaven stay bravo, hotel 2 pristine beaches room beautiful luxurius bathtub bedroom bathroom, rooms clean times size rooms bravo, spa really nice too.blue beach red beach amazing,  \n",
      "0\n"
     ]
    }
   ],
   "source": [
    "i = 1\n",
    "print(texts[i])\n",
    "print(labels[i])"
   ]
  },
  {
   "cell_type": "code",
   "execution_count": 36,
   "id": "b0311839",
   "metadata": {},
   "outputs": [],
   "source": [
    "# Tokenize the text data\n",
    "tokenizer = Tokenizer(num_words=5000)\n",
    "tokenizer.fit_on_texts(texts)\n",
    "sequences = tokenizer.texts_to_sequences(texts)\n",
    "word_index = tokenizer.word_index\n",
    "\n",
    "# Pad sequences to the same length\n",
    "data = pad_sequences(sequences, maxlen=1000)\n",
    "\n",
    "# Split data into training and validation sets\n",
    "X_train, X_val, y_train, y_val = train_test_split(data, labels, test_size=0.2)\n",
    "\n",
    "# Define CNN architecture\n",
    "model = Sequential()\n",
    "model.add(Embedding(len(word_index) + 1, 100, input_length=1000))\n",
    "model.add(Conv1D(128, 5, activation='relu'))\n",
    "model.add(GlobalMaxPooling1D())\n",
    "model.add(Dense(1, activation='sigmoid'))"
   ]
  },
  {
   "cell_type": "code",
   "execution_count": 37,
   "id": "02aa93b1",
   "metadata": {},
   "outputs": [
    {
     "name": "stdout",
     "output_type": "stream",
     "text": [
      "Epoch 1/20\n",
      "115/115 - 13s - loss: 0.3538 - accuracy: 0.8600 - val_loss: 0.1741 - val_accuracy: 0.9347 - 13s/epoch - 113ms/step\n",
      "Epoch 2/20\n",
      "115/115 - 14s - loss: 0.1247 - accuracy: 0.9548 - val_loss: 0.1283 - val_accuracy: 0.9465 - 14s/epoch - 119ms/step\n",
      "Epoch 3/20\n",
      "115/115 - 14s - loss: 0.0683 - accuracy: 0.9777 - val_loss: 0.1223 - val_accuracy: 0.9500 - 14s/epoch - 118ms/step\n",
      "Epoch 4/20\n",
      "115/115 - 14s - loss: 0.0371 - accuracy: 0.9907 - val_loss: 0.1303 - val_accuracy: 0.9500 - 14s/epoch - 120ms/step\n",
      "Epoch 5/20\n",
      "115/115 - 14s - loss: 0.0184 - accuracy: 0.9970 - val_loss: 0.1502 - val_accuracy: 0.9500 - 14s/epoch - 122ms/step\n",
      "Epoch 6/20\n",
      "115/115 - 14s - loss: 0.0085 - accuracy: 0.9992 - val_loss: 0.1584 - val_accuracy: 0.9500 - 14s/epoch - 120ms/step\n",
      "Epoch 7/20\n",
      "115/115 - 14s - loss: 0.0042 - accuracy: 0.9998 - val_loss: 0.1674 - val_accuracy: 0.9468 - 14s/epoch - 119ms/step\n",
      "Epoch 8/20\n",
      "115/115 - 14s - loss: 0.0023 - accuracy: 1.0000 - val_loss: 0.1780 - val_accuracy: 0.9478 - 14s/epoch - 122ms/step\n",
      "Epoch 9/20\n",
      "115/115 - 14s - loss: 0.0015 - accuracy: 1.0000 - val_loss: 0.1878 - val_accuracy: 0.9476 - 14s/epoch - 124ms/step\n",
      "Epoch 10/20\n",
      "115/115 - 14s - loss: 0.0011 - accuracy: 1.0000 - val_loss: 0.1936 - val_accuracy: 0.9473 - 14s/epoch - 123ms/step\n",
      "Epoch 11/20\n",
      "115/115 - 14s - loss: 8.1297e-04 - accuracy: 1.0000 - val_loss: 0.2012 - val_accuracy: 0.9462 - 14s/epoch - 124ms/step\n",
      "Epoch 12/20\n",
      "115/115 - 14s - loss: 6.3484e-04 - accuracy: 1.0000 - val_loss: 0.2033 - val_accuracy: 0.9446 - 14s/epoch - 122ms/step\n",
      "Epoch 13/20\n",
      "115/115 - 14s - loss: 5.0513e-04 - accuracy: 1.0000 - val_loss: 0.2123 - val_accuracy: 0.9462 - 14s/epoch - 122ms/step\n",
      "Epoch 14/20\n",
      "115/115 - 14s - loss: 4.1320e-04 - accuracy: 1.0000 - val_loss: 0.2155 - val_accuracy: 0.9451 - 14s/epoch - 123ms/step\n",
      "Epoch 15/20\n",
      "115/115 - 14s - loss: 3.4126e-04 - accuracy: 1.0000 - val_loss: 0.2197 - val_accuracy: 0.9446 - 14s/epoch - 120ms/step\n",
      "Epoch 16/20\n",
      "115/115 - 14s - loss: 2.8730e-04 - accuracy: 1.0000 - val_loss: 0.2233 - val_accuracy: 0.9440 - 14s/epoch - 120ms/step\n",
      "Epoch 17/20\n",
      "115/115 - 14s - loss: 2.4357e-04 - accuracy: 1.0000 - val_loss: 0.2288 - val_accuracy: 0.9448 - 14s/epoch - 119ms/step\n",
      "Epoch 18/20\n",
      "115/115 - 14s - loss: 2.0954e-04 - accuracy: 1.0000 - val_loss: 0.2318 - val_accuracy: 0.9443 - 14s/epoch - 122ms/step\n",
      "Epoch 19/20\n",
      "115/115 - 14s - loss: 1.8063e-04 - accuracy: 1.0000 - val_loss: 0.2346 - val_accuracy: 0.9446 - 14s/epoch - 122ms/step\n",
      "Epoch 20/20\n",
      "115/115 - 14s - loss: 1.5736e-04 - accuracy: 1.0000 - val_loss: 0.2387 - val_accuracy: 0.9440 - 14s/epoch - 120ms/step\n"
     ]
    },
    {
     "data": {
      "text/plain": [
       "<keras.src.callbacks.History at 0x1a8edfca8f0>"
      ]
     },
     "execution_count": 37,
     "metadata": {},
     "output_type": "execute_result"
    }
   ],
   "source": [
    "\n",
    "# Compile the model\n",
    "model.compile(loss='binary_crossentropy', optimizer='adam', metrics=['accuracy'])\n",
    "\n",
    "# Train the model\n",
    "model.fit(X_train, y_train, batch_size=128, epochs=20, validation_data=(X_val, y_val), verbose=2)\n"
   ]
  },
  {
   "cell_type": "code",
   "execution_count": 38,
   "id": "98c43c30",
   "metadata": {},
   "outputs": [],
   "source": [
    "model.save_weights('model_weights.h5')"
   ]
  },
  {
   "cell_type": "code",
   "execution_count": 42,
   "id": "dd14930b",
   "metadata": {},
   "outputs": [
    {
     "name": "stdout",
     "output_type": "stream",
     "text": [
      "1/1 [==============================] - 0s 10ms/step\n",
      "The sentiment is positive\n"
     ]
    }
   ],
   "source": [
    "# Load the saved weights\n",
    "model.load_weights('model_weights.h5')\n",
    "\n",
    "# Now you can use this model to predict the sentiment of a new text:\n",
    "text = \"super good window room\"\n",
    "# Tokenize and pad the text so it can be used as input to the model\n",
    "sequence = tokenizer.texts_to_sequences([text])\n",
    "data = pad_sequences(sequence, maxlen=1000)\n",
    "# Use the model to predict the sentiment of the text\n",
    "prediction = model.predict(data)\n",
    "sentiment = \"positive\" if prediction > .5 else \"negative\"\n",
    "print(f\"The sentiment is {sentiment}\")"
   ]
  },
  {
   "cell_type": "code",
   "execution_count": null,
   "id": "f05fffc3",
   "metadata": {},
   "outputs": [],
   "source": []
  }
 ],
 "metadata": {
  "kernelspec": {
   "display_name": "Python 3 (ipykernel)",
   "language": "python",
   "name": "python3"
  },
  "language_info": {
   "codemirror_mode": {
    "name": "ipython",
    "version": 3
   },
   "file_extension": ".py",
   "mimetype": "text/x-python",
   "name": "python",
   "nbconvert_exporter": "python",
   "pygments_lexer": "ipython3",
   "version": "3.10.13"
  }
 },
 "nbformat": 4,
 "nbformat_minor": 5
}
